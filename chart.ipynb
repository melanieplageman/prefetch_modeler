{
 "cells": [
  {
   "cell_type": "code",
   "execution_count": null,
   "id": "e8597437",
   "metadata": {
    "scrolled": false
   },
   "outputs": [],
   "source": [
    "%load_ext autoreload\n",
    "%autoreload\n",
    "\n",
    "import pandas as pd\n",
    "from pipeline import *\n",
    "from model import *\n",
    "from bucket import *\n",
    "from plot import single_plot\n",
    "\n",
    "nblocks = 11\n",
    "nticks = 10\n",
    "\n",
    "SUBMISSION_OVERHEAD = 1\n",
    "MAX_IOPS = 10000\n",
    "BASE_COMPLETION_LATENCY = 1.2\n",
    "CONSUMPTION_RATE = 2\n",
    "CONSUMPTION_SIZE = 2\n",
    "\n",
    "completion_target_distance = 512\n",
    "min_dispatch = 2\n",
    "max_inflight = 10\n",
    "\n",
    "pipeline = Pipeline(nblocks,\n",
    "                    completion_target_distance, min_dispatch, max_inflight, \n",
    "                    SUBMISSION_OVERHEAD, MAX_IOPS, BASE_COMPLETION_LATENCY, CONSUMPTION_RATE, CONSUMPTION_SIZE)\n",
    "\n",
    "\n",
    "pipeline.run(nticks, nblocks)\n",
    "to_plot = pipeline.measure(nticks)\n",
    "\n",
    "df = pd.DataFrame(to_plot)\n",
    "single_plot(df)"
   ]
  }
 ],
 "metadata": {
  "kernelspec": {
   "display_name": "Python 3 (ipykernel)",
   "language": "python",
   "name": "python3"
  },
  "language_info": {
   "codemirror_mode": {
    "name": "ipython",
    "version": 3
   },
   "file_extension": ".py",
   "mimetype": "text/x-python",
   "name": "python",
   "nbconvert_exporter": "python",
   "pygments_lexer": "ipython3",
   "version": "3.9.5"
  }
 },
 "nbformat": 4,
 "nbformat_minor": 5
}
