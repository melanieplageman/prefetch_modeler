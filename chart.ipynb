{
 "cells": [
  {
   "cell_type": "code",
   "execution_count": null,
   "id": "e8597437",
   "metadata": {
    "scrolled": false
   },
   "outputs": [],
   "source": [
    "import pandas as pd\n",
    "from run import *\n",
    "\n",
    "for storage in storages:\n",
    "    for workload in workloads:\n",
    "        for prefetcher in prefetchers:\n",
    "            pipeline_config = PipelineConfiguration(\n",
    "                storage=storage,\n",
    "                workload=workload,\n",
    "                prefetcher=prefetcher,\n",
    "            )\n",
    "\n",
    "            print(f'config is:\\n{pipeline_config}')\n",
    "\n",
    "            pipeline = pipeline_config.generate_pipeline()\n",
    "\n",
    "            data = pipeline.run(workload)\n",
    "\n",
    "            do_plot(data)"
   ]
  }
 ],
 "metadata": {
  "kernelspec": {
   "display_name": "Python 3 (ipykernel)",
   "language": "python",
   "name": "python3"
  },
  "language_info": {
   "codemirror_mode": {
    "name": "ipython",
    "version": 3
   },
   "file_extension": ".py",
   "mimetype": "text/x-python",
   "name": "python",
   "nbconvert_exporter": "python",
   "pygments_lexer": "ipython3",
   "version": "3.9.5"
  }
 },
 "nbformat": 4,
 "nbformat_minor": 5
}
